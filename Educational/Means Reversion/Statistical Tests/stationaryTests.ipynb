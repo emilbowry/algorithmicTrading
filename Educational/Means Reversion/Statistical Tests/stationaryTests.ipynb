{
 "cells": [
  {
   "cell_type": "code",
   "execution_count": null,
   "metadata": {
    "vscode": {
     "languageId": "plaintext"
    }
   },
   "outputs": [],
   "source": []
  },
  {
   "attachments": {},
   "cell_type": "markdown",
   "metadata": {},
   "source": [
    "# Time Series Processes\n",
    "### Motivation\n",
    "Stationarity is an important property to understand in time-series analysis. If a time-series is stationary, the mean, variance, and covariance do change over time. In financial signals, this means the price of an asset will return to they're mean price.\n",
    "\n",
    "This fact could allow you to take advantages of deviations from the mean to execute predictions from the time series.\n",
    "### Autoregressive models\n",
    "#### Autoregressive Integrated Moving Average Model (ARIMA)\n",
    "#### Autoregressive Moving Average Model (ARMA)\n",
    "#### Autoregressive Model (AR)\n",
    "#### Moving Average Model (MA)\n",
    "## Stationary Processes\n",
    "### Background on stationary processes\n",
    "#### Forms of stationary processes\n",
    "##### Strict-Stationarity\n",
    "##### Weak Stationarity\n",
    "##### Nth-Order Stationarity\n",
    "##### Joint Stationarity\n",
    "#### Non Stationary Processes\n",
    "##### Cyclostationary Processes\n",
    "##### Trend Stationarity\n",
    "### Lévy process\n",
    "### Whittle likelihood\n",
    "### Wiener-Khinchin Theorem\n",
    "### Stationary Ergodic Process\n",
    "## Statistical Tests\n",
    "### Dicky-Fuller (DF)\n",
    "### Augmented Dicky-Fuller (ADF)\n",
    "As the name sugggests, this is a variation of the DF test. It allows us to apply the DF test to a wider range of time-series models.\n",
    "\n",
    "Instead we extend the model to:\n",
    "$$ \\Delta y_{t} = \\alpha + \\beta t + \\gamma y_{t-1} \\delta_{1} \\Delta y_{t-1} + ... + \\delta_{p-1} \\Delta y_{t-p} + \\epsilon_{t}, where t<0 $$\n",
    "\n",
    "We have $\\alpha$ is a constant, $\\beta$ is the cofficient on a time-wise trend.\n",
    "\n",
    "If we have $\\alpha,\\beta = 0$ the trend cannot drift overtime because there is no proportianal factor to $\\Delta y_{t}$, nor a geometric progression of $y_{t}$ wrt to time. When both these constraints are met, the model is a random walk.\n",
    "\n",
    "When just the $\\beta = 0$ criterion is satisfied, it follows that it is a geometrically progressing random walk.\n",
    "\n",
    "__More indepth analysis on random walks will be covered in a later article__\n",
    "\n",
    "### Proving the Unit Root Conditions\n",
    "\n",
    "\n",
    "# Implimentation\n",
    "\n",
    "## Visualisations with Plotly\n",
    "\n",
    "## Data handling with pandas and numpy\n",
    "\n",
    "## Computing results with statsmodels"
   ]
  }
 ],
 "metadata": {
  "language_info": {
   "name": "python"
  },
  "orig_nbformat": 4
 },
 "nbformat": 4,
 "nbformat_minor": 2
}
