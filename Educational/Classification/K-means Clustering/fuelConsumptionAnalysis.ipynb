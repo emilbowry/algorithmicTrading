{
 "cells": [
  {
   "attachments": {},
   "cell_type": "markdown",
   "metadata": {},
   "source": [
    "# Predicting Fuel Theft with Clustering\n",
    "\n",
    "A particular problem in one project I was working one was predicting whether fuel was being stolen from vehicals that we were monitoring. \n",
    "\n",
    "The data we had was end of day fuel levels, idle time, and on time. \n",
    "\n",
    "An easier solution would've been monitoring for discontinutites in fuel level however we did not have access to fuel level over time.\n",
    "\n"
   ]
  },
  {
   "attachments": {},
   "cell_type": "markdown",
   "metadata": {},
   "source": [
    "## Variables\n",
    "\n",
    "A difficulty arrises due to the fact we want to predict eod fuel level, with two parameters. A requirement was having a visual solution.\n",
    "\n",
    "2 variables, x1,x2 and y2 would require a 3D graph. \n",
    "\n",
    "To get around this we would plot predicted fuel level vs actual.\n",
    "\n",
    "\n",
    "Given use time $a$ and avg fuel consump when in use $\\alpha$ and idle time $b$ and avg fuel consump when idle $\\beta$ gives us a predicted fuel use of $ p = a\\alpha + b\\beta$ and we want to plot against real fuel usage $r$"
   ]
  },
  {
   "attachments": {},
   "cell_type": "markdown",
   "metadata": {},
   "source": [
    "## Data set\n",
    "\n",
    "Unfortunatly I do not have access to our dataset so I will attempt to construct my own. \n",
    "\n",
    "We will treat idle fuel consumption as 4 litres per hour + random noise. And usage fuel consumption as 13 litres per hour + noise.\n",
    "\n",
    "Due to variations in load of activities it is include a random noise of larger variation $\\mu$.  I.E Driving, digging, etc. Fortunately fuel theft only occurs while vehical would be at rest so we do not need to account for the large deviations of driving large distances as we will only select days where the vehical would be on site. We will have $\\nu$. So we will have,\n",
    "\n",
    "$p_0 =  a(\\alpha + \\mu_0)+ b(\\beta +\\nu_0)$\n",
    "\n",
    "\n",
    "We will assume $\\mu$ and $\\nu$ are normally distributed with a mean of 0 and variance ${\\sigma_{\\alpha}}^2$ and ${\\sigma_{\\beta}}^2$\n",
    "\n",
    "For the sake of this example I will chose $\\sigma_{\\beta} = 2\\sigma_{\\alpha}$\n",
    "\n",
    "We will save this in a Pandas DataFrame\n",
    "\n"
   ]
  },
  {
   "cell_type": "code",
   "execution_count": 46,
   "metadata": {},
   "outputs": [],
   "source": [
    "import pandas as pd\n",
    "\n",
    "df = pd.DataFrame({\"a\":[],\"mu\":[],\"b\":[],\"nu\":[], \"t\":[]})\n",
    "\n"
   ]
  },
  {
   "attachments": {},
   "cell_type": "markdown",
   "metadata": {},
   "source": [
    "We will use a left-skewed Weibul Distribution to model working hourss. With a small tale ofter 8hours.\n",
    "\n",
    "The Weibull Probability Distribution is defined as:\n",
    "\n",
    "$f = (\\frac{k}{\\lambda})(\\frac{x}{\\lambda})^(k-1) \\exp(-(\\frac{x}{\\lambda})^k)$\n",
    "\n",
    "We have $\\lambda$ gives the location of where $x|_{f_{max}}$. We will chose a value just below 8, as typical working day is 8 hours, minus breaks. So we will choose $\\lambda=6$\n",
    "\n",
    "We expect it to be more common to have work less than more than 6 hours. So we want a small right tail and larger left tail. Graphically, if we choose $10\\le k\\le20$ we have a distribution that seems reasonable.\n"
   ]
  },
  {
   "cell_type": "code",
   "execution_count": 48,
   "metadata": {},
   "outputs": [
    {
     "data": {
      "text/html": [
       "        <script type=\"text/javascript\">\n",
       "        window.PlotlyConfig = {MathJaxConfig: 'local'};\n",
       "        if (window.MathJax && window.MathJax.Hub && window.MathJax.Hub.Config) {window.MathJax.Hub.Config({SVG: {font: \"STIX-Web\"}});}\n",
       "        if (typeof require !== 'undefined') {\n",
       "        require.undef(\"plotly\");\n",
       "        requirejs.config({\n",
       "            paths: {\n",
       "                'plotly': ['https://cdn.plot.ly/plotly-2.18.2.min']\n",
       "            }\n",
       "        });\n",
       "        require(['plotly'], function(Plotly) {\n",
       "            window._Plotly = Plotly;\n",
       "        });\n",
       "        }\n",
       "        </script>\n",
       "        "
      ]
     },
     "metadata": {},
     "output_type": "display_data"
    },
    {
     "ename": "ValueError",
     "evalue": "Mime type rendering requires nbformat>=4.2.0 but it is not installed",
     "output_type": "error",
     "traceback": [
      "\u001b[0;31m---------------------------------------------------------------------------\u001b[0m",
      "\u001b[0;31mValueError\u001b[0m                                Traceback (most recent call last)",
      "Cell \u001b[0;32mIn[48], line 51\u001b[0m\n\u001b[1;32m     47\u001b[0m pdftrace \u001b[39m=\u001b[39m getTrace(x, y, \u001b[39m\"\u001b[39m\u001b[39mWeibull Dist\u001b[39m\u001b[39m\"\u001b[39m)\n\u001b[1;32m     49\u001b[0m fig \u001b[39m=\u001b[39m go\u001b[39m.\u001b[39mFigure(pdftrace)\n\u001b[0;32m---> 51\u001b[0m iplot(fig)\n",
      "File \u001b[0;32m/opt/homebrew/lib/python3.11/site-packages/plotly/offline/offline.py:392\u001b[0m, in \u001b[0;36miplot\u001b[0;34m(figure_or_data, show_link, link_text, validate, image, filename, image_width, image_height, config, auto_play, animation_opts)\u001b[0m\n\u001b[1;32m    387\u001b[0m post_script \u001b[39m=\u001b[39m build_save_image_post_script(\n\u001b[1;32m    388\u001b[0m     image, filename, image_height, image_width, \u001b[39m\"\u001b[39m\u001b[39miplot\u001b[39m\u001b[39m\"\u001b[39m\n\u001b[1;32m    389\u001b[0m )\n\u001b[1;32m    391\u001b[0m \u001b[39m# Show figure\u001b[39;00m\n\u001b[0;32m--> 392\u001b[0m pio\u001b[39m.\u001b[39;49mshow(\n\u001b[1;32m    393\u001b[0m     figure,\n\u001b[1;32m    394\u001b[0m     validate\u001b[39m=\u001b[39;49mvalidate,\n\u001b[1;32m    395\u001b[0m     config\u001b[39m=\u001b[39;49mconfig,\n\u001b[1;32m    396\u001b[0m     auto_play\u001b[39m=\u001b[39;49mauto_play,\n\u001b[1;32m    397\u001b[0m     post_script\u001b[39m=\u001b[39;49mpost_script,\n\u001b[1;32m    398\u001b[0m     animation_opts\u001b[39m=\u001b[39;49manimation_opts,\n\u001b[1;32m    399\u001b[0m )\n",
      "File \u001b[0;32m/opt/homebrew/lib/python3.11/site-packages/plotly/io/_renderers.py:396\u001b[0m, in \u001b[0;36mshow\u001b[0;34m(fig, renderer, validate, **kwargs)\u001b[0m\n\u001b[1;32m    391\u001b[0m         \u001b[39mraise\u001b[39;00m \u001b[39mValueError\u001b[39;00m(\n\u001b[1;32m    392\u001b[0m             \u001b[39m\"\u001b[39m\u001b[39mMime type rendering requires ipython but it is not installed\u001b[39m\u001b[39m\"\u001b[39m\n\u001b[1;32m    393\u001b[0m         )\n\u001b[1;32m    395\u001b[0m     \u001b[39mif\u001b[39;00m \u001b[39mnot\u001b[39;00m nbformat \u001b[39mor\u001b[39;00m Version(nbformat\u001b[39m.\u001b[39m__version__) \u001b[39m<\u001b[39m Version(\u001b[39m\"\u001b[39m\u001b[39m4.2.0\u001b[39m\u001b[39m\"\u001b[39m):\n\u001b[0;32m--> 396\u001b[0m         \u001b[39mraise\u001b[39;00m \u001b[39mValueError\u001b[39;00m(\n\u001b[1;32m    397\u001b[0m             \u001b[39m\"\u001b[39m\u001b[39mMime type rendering requires nbformat>=4.2.0 but it is not installed\u001b[39m\u001b[39m\"\u001b[39m\n\u001b[1;32m    398\u001b[0m         )\n\u001b[1;32m    400\u001b[0m     ipython_display\u001b[39m.\u001b[39mdisplay(bundle, raw\u001b[39m=\u001b[39m\u001b[39mTrue\u001b[39;00m)\n\u001b[1;32m    402\u001b[0m \u001b[39m# external renderers\u001b[39;00m\n",
      "\u001b[0;31mValueError\u001b[0m: Mime type rendering requires nbformat>=4.2.0 but it is not installed"
     ]
    }
   ],
   "source": [
    "\n",
    "import chart_studio.plotly as plotly\n",
    "from plotly.offline  import init_notebook_mode,  iplot\n",
    "import plotly.figure_factory as ff\n",
    "import plotly.graph_objects as go\n",
    "from plotly.graph_objs import *\n",
    "import numpy as np\n",
    "\n",
    "init_notebook_mode(connected=True)\n",
    "\n",
    "\n",
    "\n",
    "_lambda = 6\n",
    "_k = 10\n",
    "\n",
    "c = _k/_lambda\n",
    "\n",
    "\n",
    "x = np.linspace(0,10,100)\n",
    "xprime = x/_lambda\n",
    "\n",
    "def pdf(x, l, k):\n",
    "    f = (k/l)*((x/l)**(k-1))*(np.exp(-(x/l)**(k)))\n",
    "    return f\n",
    "\n",
    "\n",
    "y = pdf(x, _lambda, _k)\n",
    "\n",
    "def  getTrace(x,y,title):\n",
    "        trace= go.Scatter(\n",
    "            x=x,\n",
    "            y=y,\n",
    "            mode='lines',\n",
    "            name=title,\n",
    "            marker=dict(\n",
    "                color='#C54C82'\n",
    "            )\n",
    "        )\n",
    "\n",
    "        layout = go.Layout(\n",
    "            title=title,\n",
    "            showlegend=True\n",
    "        )\n",
    "\n",
    "        return [trace]\n",
    "\n",
    "\n",
    "pdftrace = getTrace(x, y, \"Weibull Dist\")\n",
    "\n",
    "fig = go.Figure(pdftrace)\n",
    "\n",
    "plotly.iplot(fig)\n",
    "\n",
    "\n",
    "\n",
    "\n"
   ]
  },
  {
   "attachments": {},
   "cell_type": "markdown",
   "metadata": {},
   "source": [
    "This is "
   ]
  }
 ],
 "metadata": {
  "kernelspec": {
   "display_name": "Python 3",
   "language": "python",
   "name": "python3"
  },
  "language_info": {
   "codemirror_mode": {
    "name": "ipython",
    "version": 3
   },
   "file_extension": ".py",
   "mimetype": "text/x-python",
   "name": "python",
   "nbconvert_exporter": "python",
   "pygments_lexer": "ipython3",
   "version": "3.11.2"
  },
  "orig_nbformat": 4
 },
 "nbformat": 4,
 "nbformat_minor": 2
}
